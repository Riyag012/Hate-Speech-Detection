{
 "cells": [
  {
   "cell_type": "markdown",
   "id": "60b144e0",
   "metadata": {},
   "source": [
    "## Import Libraries and dataset"
   ]
  },
  {
   "cell_type": "code",
   "execution_count": 1,
   "id": "231a54cc",
   "metadata": {},
   "outputs": [],
   "source": [
    "import numpy as np\n",
    "import pandas as pd\n",
    "import seaborn as sns"
   ]
  },
  {
   "cell_type": "code",
   "execution_count": 2,
   "id": "a420c288",
   "metadata": {},
   "outputs": [],
   "source": [
    "dataset = pd.read_csv(\"labeled_data.csv\")"
   ]
  },
  {
   "cell_type": "code",
   "execution_count": 3,
   "id": "3f7f2faf",
   "metadata": {},
   "outputs": [
    {
     "data": {
      "text/html": [
       "<div>\n",
       "<style scoped>\n",
       "    .dataframe tbody tr th:only-of-type {\n",
       "        vertical-align: middle;\n",
       "    }\n",
       "\n",
       "    .dataframe tbody tr th {\n",
       "        vertical-align: top;\n",
       "    }\n",
       "\n",
       "    .dataframe thead th {\n",
       "        text-align: right;\n",
       "    }\n",
       "</style>\n",
       "<table border=\"1\" class=\"dataframe\">\n",
       "  <thead>\n",
       "    <tr style=\"text-align: right;\">\n",
       "      <th></th>\n",
       "      <th>serial_no</th>\n",
       "      <th>count</th>\n",
       "      <th>hate_speech</th>\n",
       "      <th>offensive_language</th>\n",
       "      <th>neither</th>\n",
       "      <th>class</th>\n",
       "      <th>tweet</th>\n",
       "    </tr>\n",
       "  </thead>\n",
       "  <tbody>\n",
       "    <tr>\n",
       "      <th>0</th>\n",
       "      <td>0</td>\n",
       "      <td>3</td>\n",
       "      <td>0</td>\n",
       "      <td>0</td>\n",
       "      <td>3</td>\n",
       "      <td>2</td>\n",
       "      <td>!!! RT @mayasolovely: As a woman you shouldn't...</td>\n",
       "    </tr>\n",
       "    <tr>\n",
       "      <th>1</th>\n",
       "      <td>1</td>\n",
       "      <td>3</td>\n",
       "      <td>0</td>\n",
       "      <td>3</td>\n",
       "      <td>0</td>\n",
       "      <td>1</td>\n",
       "      <td>!!!!! RT @mleew17: boy dats cold...tyga dwn ba...</td>\n",
       "    </tr>\n",
       "    <tr>\n",
       "      <th>2</th>\n",
       "      <td>2</td>\n",
       "      <td>3</td>\n",
       "      <td>0</td>\n",
       "      <td>3</td>\n",
       "      <td>0</td>\n",
       "      <td>1</td>\n",
       "      <td>!!!!!!! RT @UrKindOfBrand Dawg!!!! RT @80sbaby...</td>\n",
       "    </tr>\n",
       "    <tr>\n",
       "      <th>3</th>\n",
       "      <td>3</td>\n",
       "      <td>3</td>\n",
       "      <td>0</td>\n",
       "      <td>2</td>\n",
       "      <td>1</td>\n",
       "      <td>1</td>\n",
       "      <td>!!!!!!!!! RT @C_G_Anderson: @viva_based she lo...</td>\n",
       "    </tr>\n",
       "    <tr>\n",
       "      <th>4</th>\n",
       "      <td>4</td>\n",
       "      <td>6</td>\n",
       "      <td>0</td>\n",
       "      <td>6</td>\n",
       "      <td>0</td>\n",
       "      <td>1</td>\n",
       "      <td>!!!!!!!!!!!!! RT @ShenikaRoberts: The shit you...</td>\n",
       "    </tr>\n",
       "    <tr>\n",
       "      <th>...</th>\n",
       "      <td>...</td>\n",
       "      <td>...</td>\n",
       "      <td>...</td>\n",
       "      <td>...</td>\n",
       "      <td>...</td>\n",
       "      <td>...</td>\n",
       "      <td>...</td>\n",
       "    </tr>\n",
       "    <tr>\n",
       "      <th>24778</th>\n",
       "      <td>25291</td>\n",
       "      <td>3</td>\n",
       "      <td>0</td>\n",
       "      <td>2</td>\n",
       "      <td>1</td>\n",
       "      <td>1</td>\n",
       "      <td>you's a muthaf***in lie &amp;#8220;@LifeAsKing: @2...</td>\n",
       "    </tr>\n",
       "    <tr>\n",
       "      <th>24779</th>\n",
       "      <td>25292</td>\n",
       "      <td>3</td>\n",
       "      <td>0</td>\n",
       "      <td>1</td>\n",
       "      <td>2</td>\n",
       "      <td>2</td>\n",
       "      <td>you've gone and broke the wrong heart baby, an...</td>\n",
       "    </tr>\n",
       "    <tr>\n",
       "      <th>24780</th>\n",
       "      <td>25294</td>\n",
       "      <td>3</td>\n",
       "      <td>0</td>\n",
       "      <td>3</td>\n",
       "      <td>0</td>\n",
       "      <td>1</td>\n",
       "      <td>young buck wanna eat!!.. dat nigguh like I ain...</td>\n",
       "    </tr>\n",
       "    <tr>\n",
       "      <th>24781</th>\n",
       "      <td>25295</td>\n",
       "      <td>6</td>\n",
       "      <td>0</td>\n",
       "      <td>6</td>\n",
       "      <td>0</td>\n",
       "      <td>1</td>\n",
       "      <td>youu got wild bitches tellin you lies</td>\n",
       "    </tr>\n",
       "    <tr>\n",
       "      <th>24782</th>\n",
       "      <td>25296</td>\n",
       "      <td>3</td>\n",
       "      <td>0</td>\n",
       "      <td>0</td>\n",
       "      <td>3</td>\n",
       "      <td>2</td>\n",
       "      <td>~~Ruffled | Ntac Eileen Dahlia - Beautiful col...</td>\n",
       "    </tr>\n",
       "  </tbody>\n",
       "</table>\n",
       "<p>24783 rows × 7 columns</p>\n",
       "</div>"
      ],
      "text/plain": [
       "       serial_no  count  hate_speech  offensive_language  neither  class  \\\n",
       "0              0      3            0                   0        3      2   \n",
       "1              1      3            0                   3        0      1   \n",
       "2              2      3            0                   3        0      1   \n",
       "3              3      3            0                   2        1      1   \n",
       "4              4      6            0                   6        0      1   \n",
       "...          ...    ...          ...                 ...      ...    ...   \n",
       "24778      25291      3            0                   2        1      1   \n",
       "24779      25292      3            0                   1        2      2   \n",
       "24780      25294      3            0                   3        0      1   \n",
       "24781      25295      6            0                   6        0      1   \n",
       "24782      25296      3            0                   0        3      2   \n",
       "\n",
       "                                                   tweet  \n",
       "0      !!! RT @mayasolovely: As a woman you shouldn't...  \n",
       "1      !!!!! RT @mleew17: boy dats cold...tyga dwn ba...  \n",
       "2      !!!!!!! RT @UrKindOfBrand Dawg!!!! RT @80sbaby...  \n",
       "3      !!!!!!!!! RT @C_G_Anderson: @viva_based she lo...  \n",
       "4      !!!!!!!!!!!!! RT @ShenikaRoberts: The shit you...  \n",
       "...                                                  ...  \n",
       "24778  you's a muthaf***in lie &#8220;@LifeAsKing: @2...  \n",
       "24779  you've gone and broke the wrong heart baby, an...  \n",
       "24780  young buck wanna eat!!.. dat nigguh like I ain...  \n",
       "24781              youu got wild bitches tellin you lies  \n",
       "24782  ~~Ruffled | Ntac Eileen Dahlia - Beautiful col...  \n",
       "\n",
       "[24783 rows x 7 columns]"
      ]
     },
     "execution_count": 3,
     "metadata": {},
     "output_type": "execute_result"
    }
   ],
   "source": [
    "dataset"
   ]
  },
  {
   "cell_type": "markdown",
   "id": "d4b8a71e",
   "metadata": {},
   "source": [
    "## Analyzing Data"
   ]
  },
  {
   "cell_type": "code",
   "execution_count": 4,
   "id": "7064a974",
   "metadata": {},
   "outputs": [
    {
     "data": {
      "text/plain": [
       "serial_no             0\n",
       "count                 0\n",
       "hate_speech           0\n",
       "offensive_language    0\n",
       "neither               0\n",
       "class                 0\n",
       "tweet                 0\n",
       "dtype: int64"
      ]
     },
     "execution_count": 4,
     "metadata": {},
     "output_type": "execute_result"
    }
   ],
   "source": [
    "dataset.isnull().sum()\n",
    "##is null tells us about is any dataset is empty or not and sum sumarizes it"
   ]
  },
  {
   "cell_type": "code",
   "execution_count": 5,
   "id": "3932bfd2",
   "metadata": {},
   "outputs": [
    {
     "name": "stdout",
     "output_type": "stream",
     "text": [
      "<class 'pandas.core.frame.DataFrame'>\n",
      "RangeIndex: 24783 entries, 0 to 24782\n",
      "Data columns (total 7 columns):\n",
      " #   Column              Non-Null Count  Dtype \n",
      "---  ------              --------------  ----- \n",
      " 0   serial_no           24783 non-null  int64 \n",
      " 1   count               24783 non-null  int64 \n",
      " 2   hate_speech         24783 non-null  int64 \n",
      " 3   offensive_language  24783 non-null  int64 \n",
      " 4   neither             24783 non-null  int64 \n",
      " 5   class               24783 non-null  int64 \n",
      " 6   tweet               24783 non-null  object\n",
      "dtypes: int64(6), object(1)\n",
      "memory usage: 1.3+ MB\n"
     ]
    }
   ],
   "source": [
    "dataset.info()"
   ]
  },
  {
   "cell_type": "code",
   "execution_count": 6,
   "id": "f269208c",
   "metadata": {},
   "outputs": [
    {
     "data": {
      "text/html": [
       "<div>\n",
       "<style scoped>\n",
       "    .dataframe tbody tr th:only-of-type {\n",
       "        vertical-align: middle;\n",
       "    }\n",
       "\n",
       "    .dataframe tbody tr th {\n",
       "        vertical-align: top;\n",
       "    }\n",
       "\n",
       "    .dataframe thead th {\n",
       "        text-align: right;\n",
       "    }\n",
       "</style>\n",
       "<table border=\"1\" class=\"dataframe\">\n",
       "  <thead>\n",
       "    <tr style=\"text-align: right;\">\n",
       "      <th></th>\n",
       "      <th>serial_no</th>\n",
       "      <th>count</th>\n",
       "      <th>hate_speech</th>\n",
       "      <th>offensive_language</th>\n",
       "      <th>neither</th>\n",
       "      <th>class</th>\n",
       "    </tr>\n",
       "  </thead>\n",
       "  <tbody>\n",
       "    <tr>\n",
       "      <th>count</th>\n",
       "      <td>24783.000000</td>\n",
       "      <td>24783.000000</td>\n",
       "      <td>24783.000000</td>\n",
       "      <td>24783.000000</td>\n",
       "      <td>24783.000000</td>\n",
       "      <td>24783.000000</td>\n",
       "    </tr>\n",
       "    <tr>\n",
       "      <th>mean</th>\n",
       "      <td>12681.192027</td>\n",
       "      <td>3.243473</td>\n",
       "      <td>0.280515</td>\n",
       "      <td>2.413711</td>\n",
       "      <td>0.549247</td>\n",
       "      <td>1.110277</td>\n",
       "    </tr>\n",
       "    <tr>\n",
       "      <th>std</th>\n",
       "      <td>7299.553863</td>\n",
       "      <td>0.883060</td>\n",
       "      <td>0.631851</td>\n",
       "      <td>1.399459</td>\n",
       "      <td>1.113299</td>\n",
       "      <td>0.462089</td>\n",
       "    </tr>\n",
       "    <tr>\n",
       "      <th>min</th>\n",
       "      <td>0.000000</td>\n",
       "      <td>3.000000</td>\n",
       "      <td>0.000000</td>\n",
       "      <td>0.000000</td>\n",
       "      <td>0.000000</td>\n",
       "      <td>0.000000</td>\n",
       "    </tr>\n",
       "    <tr>\n",
       "      <th>25%</th>\n",
       "      <td>6372.500000</td>\n",
       "      <td>3.000000</td>\n",
       "      <td>0.000000</td>\n",
       "      <td>2.000000</td>\n",
       "      <td>0.000000</td>\n",
       "      <td>1.000000</td>\n",
       "    </tr>\n",
       "    <tr>\n",
       "      <th>50%</th>\n",
       "      <td>12703.000000</td>\n",
       "      <td>3.000000</td>\n",
       "      <td>0.000000</td>\n",
       "      <td>3.000000</td>\n",
       "      <td>0.000000</td>\n",
       "      <td>1.000000</td>\n",
       "    </tr>\n",
       "    <tr>\n",
       "      <th>75%</th>\n",
       "      <td>18995.500000</td>\n",
       "      <td>3.000000</td>\n",
       "      <td>0.000000</td>\n",
       "      <td>3.000000</td>\n",
       "      <td>0.000000</td>\n",
       "      <td>1.000000</td>\n",
       "    </tr>\n",
       "    <tr>\n",
       "      <th>max</th>\n",
       "      <td>25296.000000</td>\n",
       "      <td>9.000000</td>\n",
       "      <td>7.000000</td>\n",
       "      <td>9.000000</td>\n",
       "      <td>9.000000</td>\n",
       "      <td>2.000000</td>\n",
       "    </tr>\n",
       "  </tbody>\n",
       "</table>\n",
       "</div>"
      ],
      "text/plain": [
       "          serial_no         count   hate_speech  offensive_language  \\\n",
       "count  24783.000000  24783.000000  24783.000000        24783.000000   \n",
       "mean   12681.192027      3.243473      0.280515            2.413711   \n",
       "std     7299.553863      0.883060      0.631851            1.399459   \n",
       "min        0.000000      3.000000      0.000000            0.000000   \n",
       "25%     6372.500000      3.000000      0.000000            2.000000   \n",
       "50%    12703.000000      3.000000      0.000000            3.000000   \n",
       "75%    18995.500000      3.000000      0.000000            3.000000   \n",
       "max    25296.000000      9.000000      7.000000            9.000000   \n",
       "\n",
       "            neither         class  \n",
       "count  24783.000000  24783.000000  \n",
       "mean       0.549247      1.110277  \n",
       "std        1.113299      0.462089  \n",
       "min        0.000000      0.000000  \n",
       "25%        0.000000      1.000000  \n",
       "50%        0.000000      1.000000  \n",
       "75%        0.000000      1.000000  \n",
       "max        9.000000      2.000000  "
      ]
     },
     "execution_count": 6,
     "metadata": {},
     "output_type": "execute_result"
    }
   ],
   "source": [
    "'''\n",
    "describe method gives us the \"statistical\" info, for eg it can help us to determine how much hate do we receive on day\n",
    "to day basis.\n",
    "'''\n",
    "dataset.describe()"
   ]
  },
  {
   "cell_type": "code",
   "execution_count": 7,
   "id": "79ff3cb2",
   "metadata": {},
   "outputs": [],
   "source": [
    "dataset[\"labels\"] = dataset[\"class\"].map({0: \"hate_speech\",\n",
    "                                          1: \"offensive_langauge\",\n",
    "                                          2: \"neither\"})"
   ]
  },
  {
   "cell_type": "code",
   "execution_count": 8,
   "id": "656b2409",
   "metadata": {},
   "outputs": [
    {
     "data": {
      "text/html": [
       "<div>\n",
       "<style scoped>\n",
       "    .dataframe tbody tr th:only-of-type {\n",
       "        vertical-align: middle;\n",
       "    }\n",
       "\n",
       "    .dataframe tbody tr th {\n",
       "        vertical-align: top;\n",
       "    }\n",
       "\n",
       "    .dataframe thead th {\n",
       "        text-align: right;\n",
       "    }\n",
       "</style>\n",
       "<table border=\"1\" class=\"dataframe\">\n",
       "  <thead>\n",
       "    <tr style=\"text-align: right;\">\n",
       "      <th></th>\n",
       "      <th>serial_no</th>\n",
       "      <th>count</th>\n",
       "      <th>hate_speech</th>\n",
       "      <th>offensive_language</th>\n",
       "      <th>neither</th>\n",
       "      <th>class</th>\n",
       "      <th>tweet</th>\n",
       "      <th>labels</th>\n",
       "    </tr>\n",
       "  </thead>\n",
       "  <tbody>\n",
       "    <tr>\n",
       "      <th>0</th>\n",
       "      <td>0</td>\n",
       "      <td>3</td>\n",
       "      <td>0</td>\n",
       "      <td>0</td>\n",
       "      <td>3</td>\n",
       "      <td>2</td>\n",
       "      <td>!!! RT @mayasolovely: As a woman you shouldn't...</td>\n",
       "      <td>neither</td>\n",
       "    </tr>\n",
       "    <tr>\n",
       "      <th>1</th>\n",
       "      <td>1</td>\n",
       "      <td>3</td>\n",
       "      <td>0</td>\n",
       "      <td>3</td>\n",
       "      <td>0</td>\n",
       "      <td>1</td>\n",
       "      <td>!!!!! RT @mleew17: boy dats cold...tyga dwn ba...</td>\n",
       "      <td>offensive_langauge</td>\n",
       "    </tr>\n",
       "    <tr>\n",
       "      <th>2</th>\n",
       "      <td>2</td>\n",
       "      <td>3</td>\n",
       "      <td>0</td>\n",
       "      <td>3</td>\n",
       "      <td>0</td>\n",
       "      <td>1</td>\n",
       "      <td>!!!!!!! RT @UrKindOfBrand Dawg!!!! RT @80sbaby...</td>\n",
       "      <td>offensive_langauge</td>\n",
       "    </tr>\n",
       "    <tr>\n",
       "      <th>3</th>\n",
       "      <td>3</td>\n",
       "      <td>3</td>\n",
       "      <td>0</td>\n",
       "      <td>2</td>\n",
       "      <td>1</td>\n",
       "      <td>1</td>\n",
       "      <td>!!!!!!!!! RT @C_G_Anderson: @viva_based she lo...</td>\n",
       "      <td>offensive_langauge</td>\n",
       "    </tr>\n",
       "    <tr>\n",
       "      <th>4</th>\n",
       "      <td>4</td>\n",
       "      <td>6</td>\n",
       "      <td>0</td>\n",
       "      <td>6</td>\n",
       "      <td>0</td>\n",
       "      <td>1</td>\n",
       "      <td>!!!!!!!!!!!!! RT @ShenikaRoberts: The shit you...</td>\n",
       "      <td>offensive_langauge</td>\n",
       "    </tr>\n",
       "    <tr>\n",
       "      <th>...</th>\n",
       "      <td>...</td>\n",
       "      <td>...</td>\n",
       "      <td>...</td>\n",
       "      <td>...</td>\n",
       "      <td>...</td>\n",
       "      <td>...</td>\n",
       "      <td>...</td>\n",
       "      <td>...</td>\n",
       "    </tr>\n",
       "    <tr>\n",
       "      <th>24778</th>\n",
       "      <td>25291</td>\n",
       "      <td>3</td>\n",
       "      <td>0</td>\n",
       "      <td>2</td>\n",
       "      <td>1</td>\n",
       "      <td>1</td>\n",
       "      <td>you's a muthaf***in lie &amp;#8220;@LifeAsKing: @2...</td>\n",
       "      <td>offensive_langauge</td>\n",
       "    </tr>\n",
       "    <tr>\n",
       "      <th>24779</th>\n",
       "      <td>25292</td>\n",
       "      <td>3</td>\n",
       "      <td>0</td>\n",
       "      <td>1</td>\n",
       "      <td>2</td>\n",
       "      <td>2</td>\n",
       "      <td>you've gone and broke the wrong heart baby, an...</td>\n",
       "      <td>neither</td>\n",
       "    </tr>\n",
       "    <tr>\n",
       "      <th>24780</th>\n",
       "      <td>25294</td>\n",
       "      <td>3</td>\n",
       "      <td>0</td>\n",
       "      <td>3</td>\n",
       "      <td>0</td>\n",
       "      <td>1</td>\n",
       "      <td>young buck wanna eat!!.. dat nigguh like I ain...</td>\n",
       "      <td>offensive_langauge</td>\n",
       "    </tr>\n",
       "    <tr>\n",
       "      <th>24781</th>\n",
       "      <td>25295</td>\n",
       "      <td>6</td>\n",
       "      <td>0</td>\n",
       "      <td>6</td>\n",
       "      <td>0</td>\n",
       "      <td>1</td>\n",
       "      <td>youu got wild bitches tellin you lies</td>\n",
       "      <td>offensive_langauge</td>\n",
       "    </tr>\n",
       "    <tr>\n",
       "      <th>24782</th>\n",
       "      <td>25296</td>\n",
       "      <td>3</td>\n",
       "      <td>0</td>\n",
       "      <td>0</td>\n",
       "      <td>3</td>\n",
       "      <td>2</td>\n",
       "      <td>~~Ruffled | Ntac Eileen Dahlia - Beautiful col...</td>\n",
       "      <td>neither</td>\n",
       "    </tr>\n",
       "  </tbody>\n",
       "</table>\n",
       "<p>24783 rows × 8 columns</p>\n",
       "</div>"
      ],
      "text/plain": [
       "       serial_no  count  hate_speech  offensive_language  neither  class  \\\n",
       "0              0      3            0                   0        3      2   \n",
       "1              1      3            0                   3        0      1   \n",
       "2              2      3            0                   3        0      1   \n",
       "3              3      3            0                   2        1      1   \n",
       "4              4      6            0                   6        0      1   \n",
       "...          ...    ...          ...                 ...      ...    ...   \n",
       "24778      25291      3            0                   2        1      1   \n",
       "24779      25292      3            0                   1        2      2   \n",
       "24780      25294      3            0                   3        0      1   \n",
       "24781      25295      6            0                   6        0      1   \n",
       "24782      25296      3            0                   0        3      2   \n",
       "\n",
       "                                                   tweet              labels  \n",
       "0      !!! RT @mayasolovely: As a woman you shouldn't...             neither  \n",
       "1      !!!!! RT @mleew17: boy dats cold...tyga dwn ba...  offensive_langauge  \n",
       "2      !!!!!!! RT @UrKindOfBrand Dawg!!!! RT @80sbaby...  offensive_langauge  \n",
       "3      !!!!!!!!! RT @C_G_Anderson: @viva_based she lo...  offensive_langauge  \n",
       "4      !!!!!!!!!!!!! RT @ShenikaRoberts: The shit you...  offensive_langauge  \n",
       "...                                                  ...                 ...  \n",
       "24778  you's a muthaf***in lie &#8220;@LifeAsKing: @2...  offensive_langauge  \n",
       "24779  you've gone and broke the wrong heart baby, an...             neither  \n",
       "24780  young buck wanna eat!!.. dat nigguh like I ain...  offensive_langauge  \n",
       "24781              youu got wild bitches tellin you lies  offensive_langauge  \n",
       "24782  ~~Ruffled | Ntac Eileen Dahlia - Beautiful col...             neither  \n",
       "\n",
       "[24783 rows x 8 columns]"
      ]
     },
     "execution_count": 8,
     "metadata": {},
     "output_type": "execute_result"
    }
   ],
   "source": [
    "dataset"
   ]
  },
  {
   "cell_type": "markdown",
   "id": "560a5b00",
   "metadata": {},
   "source": [
    "## Data Preprocessing and Cleaning\n",
    "\n",
    "#### Our task is to reduce the dataset and to do that we'll import regular expression ,i.e, re to remove unwanted &%#@ signs {A regex (regular expression) consists of a sequence of sub-expressions. In this example, [0-9] and + . The [...] , known as character class (or bracket list), encloses a list of characters. It matches any SINGLE character in the list.} and also import nltk ,i.e, natural language toolkit which helps in removing stop words and steeming. importing string for removal of punctuations."
   ]
  },
  {
   "cell_type": "code",
   "execution_count": 9,
   "id": "2364b969",
   "metadata": {},
   "outputs": [],
   "source": [
    "import re\n",
    "import nltk\n",
    "import string"
   ]
  },
  {
   "cell_type": "code",
   "execution_count": 10,
   "id": "3c0e8c17",
   "metadata": {},
   "outputs": [],
   "source": [
    "#IMPORTING STOPWORDS (insignificant words)\n",
    "from nltk.corpus import stopwords\n",
    "stopwords = set(stopwords.words(\"english\"))\n",
    "#IMPORTING STEMMING (limitization)\n",
    "stemmer = nltk.PorterStemmer()"
   ]
  },
  {
   "cell_type": "markdown",
   "id": "a512b010",
   "metadata": {},
   "source": [
    "1. Porter Stemmer\n",
    "Description: One of the most widely used stemmers. It applies a series of predefined rules to iteratively reduce words to their stems.\n",
    "Example: \"running\" → \"run\".\n",
    "Characteristics: Fast and effective but may sometimes over-stem or under-stem words.\n",
    "2. Lancaster Stemmer\n",
    "Description: A more aggressive stemmer than Porter, applying a strict set of rules.\n",
    "Example: \"running\" → \"run\".\n",
    "Characteristics: Tends to over-stem words, potentially leading to loss of meaning.\n",
    "3. Snowball Stemmer\n",
    "Description: An improved version of the Porter Stemmer, also known as the Porter2 stemmer. It is more flexible and supports multiple languages.\n",
    "Example: \"happily\" → \"happi\".\n",
    "Characteristics: More consistent and adaptable than Porter."
   ]
  },
  {
   "cell_type": "code",
   "execution_count": 11,
   "id": "84ff62ba",
   "metadata": {},
   "outputs": [],
   "source": [
    "#Data cleaning\n",
    "def clean_data(text):\n",
    "    # Convert to lowercase\n",
    "    text = str(text).lower()\n",
    "    # removing urls\n",
    "    text = re.sub('https?://\\S+|www\\S+' , '', text)\n",
    "    # Remove specific characters\n",
    "    text = re.sub('[#@><>.;]' , '' , text)\n",
    "    # Remove newline characters\n",
    "    text = re.sub('\\n' , '', text)\n",
    "    # Remove words containing digits\n",
    "    text = re.sub('\\w*\\d\\w* ' , '', text)\n",
    "    # Remove punctuation\n",
    "    text = re.sub('[%s]' %re.escape(string.punctuation), '', text)\n",
    "    ## removing stopwords\n",
    "    text = [word for word in text.split(' ') if word not in stopwords]\n",
    "    text = \" \".join(text)\n",
    "    ## stemming\n",
    "    text = [stemmer.stem(word) for word in text.split(' ')]\n",
    "    text = \" \".join(text)\n",
    "    return text"
   ]
  },
  {
   "cell_type": "markdown",
   "id": "d8a2caef",
   "metadata": {},
   "source": [
    "## -> `sub()` function\n",
    "\n",
    "`re.sub()` is a function in Python's `re` module (regular expressions) that allows you to replace parts of a string that match a specific pattern with a desired replacement. It is commonly used for pattern-based text substitution.\n",
    "\n",
    "**Syntax**: `re.sub(pattern, replacement, string, count=0, flags=0)`\n",
    "\n",
    "### Parameters:\n",
    "1. **pattern**: The regular expression pattern to search for in the string.\n",
    "2. **replacement**: The string (or function) to replace the matched pattern.\n",
    "3. **string**: The input string where the search and replace is performed.\n",
    "4. **count** (optional): Maximum number of replacements to make. Defaults to 0 (replace all matches).\n",
    "5. **flags** (optional): Special flags like `re.IGNORECASE` for case-insensitive matching.\n",
    "\n",
    "### -> Removal of URL\n",
    "\n",
    "1. `https?`: Matches the string \"http\" or \"https\", where the \"?\" indicates that the preceding \"s\" is optional.\n",
    "2. `://`: Matches the colon and double slashes after \"http\" or \"https\" in a typical URL.\n",
    "3. `\\S+`: Matches one or more non-whitespace characters after the \"://\". This is meant to match the domain part of the URL.\n",
    "4. `|`: Represents the logical OR, so it allows either the pattern before or after the pipe to match.\n",
    "5. `www\\S+`: Matches the string \"www\" followed by one or more non-whitespace characters. This is another pattern for URLs starting with \"www\".\n",
    "\n",
    "### -> Remove Punctuation\n",
    "\n",
    "1. **`string.punctuation`**: This is a predefined string in Python's `string` module that contains all punctuation characters, such as `!\"#$%&'()*+,-./:;<=>?@[\\]^_{|}~`.\n",
    "2. **`re.escape()`**: This function escapes all special characters in the given string. For example, some characters (like `[` or `]`) have special meanings in regular expressions, so `re.escape()` makes sure that they are treated as literal characters rather than special regex operators.  \n",
    "   Example: `re.escape('!#$%')` will return `'!\\\\#\\\\$%'`.\n",
    "3. **`'[%s]' % re.escape(string.punctuation)`**: This part builds the regular expression pattern dynamically.  \n",
    "   The `%s` is replaced by the escaped version of `string.punctuation`.  \n",
    "   This means the pattern will match any character that is a punctuation mark. For example, it will create a pattern like `\"[!\\\\\\\"#$%&'()*+,-./:;<=>?@\\\\[\\\\]^_{|}~]\"`.\n",
    "4. `[%s]` is a string with %s as a placeholder. This is like saying, \"I want to create a string where I will insert something here (the %s part).\"\n",
    "5. `%`: The % takes the result of re.escape(string.punctuation) and puts it in place of the %s\n",
    "   \n",
    "### ->Remove Word Containing Digits\n",
    "\n",
    "The regular expression `'\\w*\\d\\w*'` is used in the re.sub function to remove words that contain digits from the given text.\n",
    "Let's break down the components of this regular expression:\n",
    "1. \\w* : Matches zero or more word characters (letters, digits, or underscores).\n",
    "2. \\d : Matches a digit (0-9).\n",
    "3. \\w* : Again, matches zero or more word characters.\n"
   ]
  },
  {
   "cell_type": "code",
   "execution_count": 12,
   "id": "aebcb0c1",
   "metadata": {},
   "outputs": [],
   "source": [
    "data = dataset[[\"tweet\", \"labels\"]]"
   ]
  },
  {
   "cell_type": "code",
   "execution_count": 13,
   "id": "6d280de2",
   "metadata": {},
   "outputs": [
    {
     "data": {
      "text/html": [
       "<div>\n",
       "<style scoped>\n",
       "    .dataframe tbody tr th:only-of-type {\n",
       "        vertical-align: middle;\n",
       "    }\n",
       "\n",
       "    .dataframe tbody tr th {\n",
       "        vertical-align: top;\n",
       "    }\n",
       "\n",
       "    .dataframe thead th {\n",
       "        text-align: right;\n",
       "    }\n",
       "</style>\n",
       "<table border=\"1\" class=\"dataframe\">\n",
       "  <thead>\n",
       "    <tr style=\"text-align: right;\">\n",
       "      <th></th>\n",
       "      <th>tweet</th>\n",
       "      <th>labels</th>\n",
       "    </tr>\n",
       "  </thead>\n",
       "  <tbody>\n",
       "    <tr>\n",
       "      <th>0</th>\n",
       "      <td>!!! RT @mayasolovely: As a woman you shouldn't...</td>\n",
       "      <td>neither</td>\n",
       "    </tr>\n",
       "    <tr>\n",
       "      <th>1</th>\n",
       "      <td>!!!!! RT @mleew17: boy dats cold...tyga dwn ba...</td>\n",
       "      <td>offensive_langauge</td>\n",
       "    </tr>\n",
       "    <tr>\n",
       "      <th>2</th>\n",
       "      <td>!!!!!!! RT @UrKindOfBrand Dawg!!!! RT @80sbaby...</td>\n",
       "      <td>offensive_langauge</td>\n",
       "    </tr>\n",
       "    <tr>\n",
       "      <th>3</th>\n",
       "      <td>!!!!!!!!! RT @C_G_Anderson: @viva_based she lo...</td>\n",
       "      <td>offensive_langauge</td>\n",
       "    </tr>\n",
       "    <tr>\n",
       "      <th>4</th>\n",
       "      <td>!!!!!!!!!!!!! RT @ShenikaRoberts: The shit you...</td>\n",
       "      <td>offensive_langauge</td>\n",
       "    </tr>\n",
       "    <tr>\n",
       "      <th>...</th>\n",
       "      <td>...</td>\n",
       "      <td>...</td>\n",
       "    </tr>\n",
       "    <tr>\n",
       "      <th>24778</th>\n",
       "      <td>you's a muthaf***in lie &amp;#8220;@LifeAsKing: @2...</td>\n",
       "      <td>offensive_langauge</td>\n",
       "    </tr>\n",
       "    <tr>\n",
       "      <th>24779</th>\n",
       "      <td>you've gone and broke the wrong heart baby, an...</td>\n",
       "      <td>neither</td>\n",
       "    </tr>\n",
       "    <tr>\n",
       "      <th>24780</th>\n",
       "      <td>young buck wanna eat!!.. dat nigguh like I ain...</td>\n",
       "      <td>offensive_langauge</td>\n",
       "    </tr>\n",
       "    <tr>\n",
       "      <th>24781</th>\n",
       "      <td>youu got wild bitches tellin you lies</td>\n",
       "      <td>offensive_langauge</td>\n",
       "    </tr>\n",
       "    <tr>\n",
       "      <th>24782</th>\n",
       "      <td>~~Ruffled | Ntac Eileen Dahlia - Beautiful col...</td>\n",
       "      <td>neither</td>\n",
       "    </tr>\n",
       "  </tbody>\n",
       "</table>\n",
       "<p>24783 rows × 2 columns</p>\n",
       "</div>"
      ],
      "text/plain": [
       "                                                   tweet              labels\n",
       "0      !!! RT @mayasolovely: As a woman you shouldn't...             neither\n",
       "1      !!!!! RT @mleew17: boy dats cold...tyga dwn ba...  offensive_langauge\n",
       "2      !!!!!!! RT @UrKindOfBrand Dawg!!!! RT @80sbaby...  offensive_langauge\n",
       "3      !!!!!!!!! RT @C_G_Anderson: @viva_based she lo...  offensive_langauge\n",
       "4      !!!!!!!!!!!!! RT @ShenikaRoberts: The shit you...  offensive_langauge\n",
       "...                                                  ...                 ...\n",
       "24778  you's a muthaf***in lie &#8220;@LifeAsKing: @2...  offensive_langauge\n",
       "24779  you've gone and broke the wrong heart baby, an...             neither\n",
       "24780  young buck wanna eat!!.. dat nigguh like I ain...  offensive_langauge\n",
       "24781              youu got wild bitches tellin you lies  offensive_langauge\n",
       "24782  ~~Ruffled | Ntac Eileen Dahlia - Beautiful col...             neither\n",
       "\n",
       "[24783 rows x 2 columns]"
      ]
     },
     "execution_count": 13,
     "metadata": {},
     "output_type": "execute_result"
    }
   ],
   "source": [
    "data"
   ]
  },
  {
   "cell_type": "code",
   "execution_count": 14,
   "id": "8ebb1f9d",
   "metadata": {},
   "outputs": [
    {
     "name": "stderr",
     "output_type": "stream",
     "text": [
      "C:\\Users\\riyag\\AppData\\Local\\Temp\\ipykernel_39952\\1832165696.py:1: SettingWithCopyWarning: \n",
      "A value is trying to be set on a copy of a slice from a DataFrame.\n",
      "Try using .loc[row_indexer,col_indexer] = value instead\n",
      "\n",
      "See the caveats in the documentation: https://pandas.pydata.org/pandas-docs/stable/user_guide/indexing.html#returning-a-view-versus-a-copy\n",
      "  data[\"tweet\"] = data[\"tweet\"].apply(clean_data)\n"
     ]
    }
   ],
   "source": [
    "data[\"tweet\"] = data[\"tweet\"].apply(clean_data)"
   ]
  },
  {
   "cell_type": "code",
   "execution_count": 15,
   "id": "3bab59fd",
   "metadata": {},
   "outputs": [
    {
     "data": {
      "text/html": [
       "<div>\n",
       "<style scoped>\n",
       "    .dataframe tbody tr th:only-of-type {\n",
       "        vertical-align: middle;\n",
       "    }\n",
       "\n",
       "    .dataframe tbody tr th {\n",
       "        vertical-align: top;\n",
       "    }\n",
       "\n",
       "    .dataframe thead th {\n",
       "        text-align: right;\n",
       "    }\n",
       "</style>\n",
       "<table border=\"1\" class=\"dataframe\">\n",
       "  <thead>\n",
       "    <tr style=\"text-align: right;\">\n",
       "      <th></th>\n",
       "      <th>tweet</th>\n",
       "      <th>labels</th>\n",
       "    </tr>\n",
       "  </thead>\n",
       "  <tbody>\n",
       "    <tr>\n",
       "      <th>0</th>\n",
       "      <td>rt mayasolov woman shouldnt complain clean ho...</td>\n",
       "      <td>neither</td>\n",
       "    </tr>\n",
       "    <tr>\n",
       "      <th>1</th>\n",
       "      <td>rt mleew17 boy dat coldtyga dwn bad cuffin da...</td>\n",
       "      <td>offensive_langauge</td>\n",
       "    </tr>\n",
       "    <tr>\n",
       "      <th>2</th>\n",
       "      <td>rt urkindofbrand dawg rt 80sbaby4lif ever fuc...</td>\n",
       "      <td>offensive_langauge</td>\n",
       "    </tr>\n",
       "    <tr>\n",
       "      <th>3</th>\n",
       "      <td>rt cganderson vivabas look like tranni</td>\n",
       "      <td>offensive_langauge</td>\n",
       "    </tr>\n",
       "    <tr>\n",
       "      <th>4</th>\n",
       "      <td>rt shenikarobert shit hear might true might f...</td>\n",
       "      <td>offensive_langauge</td>\n",
       "    </tr>\n",
       "    <tr>\n",
       "      <th>...</th>\n",
       "      <td>...</td>\n",
       "      <td>...</td>\n",
       "    </tr>\n",
       "    <tr>\n",
       "      <th>24778</th>\n",
       "      <td>you muthafin lie 8220lifeask coreyemanuel righ...</td>\n",
       "      <td>offensive_langauge</td>\n",
       "    </tr>\n",
       "    <tr>\n",
       "      <th>24779</th>\n",
       "      <td>youv gone broke wrong heart babi drove redneck...</td>\n",
       "      <td>neither</td>\n",
       "    </tr>\n",
       "    <tr>\n",
       "      <th>24780</th>\n",
       "      <td>young buck wanna eat dat nigguh like aint fuck...</td>\n",
       "      <td>offensive_langauge</td>\n",
       "    </tr>\n",
       "    <tr>\n",
       "      <th>24781</th>\n",
       "      <td>youu got wild bitch tellin lie</td>\n",
       "      <td>offensive_langauge</td>\n",
       "    </tr>\n",
       "    <tr>\n",
       "      <th>24782</th>\n",
       "      <td>ruffl  ntac eileen dahlia  beauti color combin...</td>\n",
       "      <td>neither</td>\n",
       "    </tr>\n",
       "  </tbody>\n",
       "</table>\n",
       "<p>24783 rows × 2 columns</p>\n",
       "</div>"
      ],
      "text/plain": [
       "                                                   tweet              labels\n",
       "0       rt mayasolov woman shouldnt complain clean ho...             neither\n",
       "1       rt mleew17 boy dat coldtyga dwn bad cuffin da...  offensive_langauge\n",
       "2       rt urkindofbrand dawg rt 80sbaby4lif ever fuc...  offensive_langauge\n",
       "3                 rt cganderson vivabas look like tranni  offensive_langauge\n",
       "4       rt shenikarobert shit hear might true might f...  offensive_langauge\n",
       "...                                                  ...                 ...\n",
       "24778  you muthafin lie 8220lifeask coreyemanuel righ...  offensive_langauge\n",
       "24779  youv gone broke wrong heart babi drove redneck...             neither\n",
       "24780  young buck wanna eat dat nigguh like aint fuck...  offensive_langauge\n",
       "24781                     youu got wild bitch tellin lie  offensive_langauge\n",
       "24782  ruffl  ntac eileen dahlia  beauti color combin...             neither\n",
       "\n",
       "[24783 rows x 2 columns]"
      ]
     },
     "execution_count": 15,
     "metadata": {},
     "output_type": "execute_result"
    }
   ],
   "source": [
    "data"
   ]
  },
  {
   "cell_type": "markdown",
   "id": "3e662f31",
   "metadata": {},
   "source": [
    "## Model Building"
   ]
  },
  {
   "cell_type": "code",
   "execution_count": 16,
   "id": "a796620b",
   "metadata": {},
   "outputs": [],
   "source": [
    "X = np.array(data[\"tweet\"])\n",
    "Y = np.array(data[\"labels\"])"
   ]
  },
  {
   "cell_type": "code",
   "execution_count": 17,
   "id": "ee4d30b7",
   "metadata": {},
   "outputs": [],
   "source": [
    "'''The CountVectorizer is a text feature extraction technique in machine learning, used to convert a collection\n",
    "of text documents into a matrix of token counts.'''\n",
    "from sklearn.feature_extraction.text import CountVectorizer\n",
    "from sklearn.model_selection import train_test_split"
   ]
  },
  {
   "cell_type": "code",
   "execution_count": 18,
   "id": "44a6f9b2",
   "metadata": {},
   "outputs": [],
   "source": [
    "cv = CountVectorizer()\n",
    "X = cv.fit_transform(X)\n",
    "## HELPS IN TRANSFORMING ARRAY IN THE VECTOR FORM"
   ]
  },
  {
   "cell_type": "code",
   "execution_count": 19,
   "id": "0e226112",
   "metadata": {},
   "outputs": [
    {
     "data": {
      "text/plain": [
       "<24783x32100 sparse matrix of type '<class 'numpy.int64'>'\n",
       "\twith 206268 stored elements in Compressed Sparse Row format>"
      ]
     },
     "execution_count": 19,
     "metadata": {},
     "output_type": "execute_result"
    }
   ],
   "source": [
    "X"
   ]
  },
  {
   "cell_type": "code",
   "execution_count": 20,
   "id": "aac72b2d",
   "metadata": {},
   "outputs": [],
   "source": [
    "X_train, X_test, Y_train, Y_test = train_test_split(X, Y, test_size=0.33, random_state=42)"
   ]
  },
  {
   "cell_type": "code",
   "execution_count": 21,
   "id": "f7f9179e",
   "metadata": {},
   "outputs": [
    {
     "data": {
      "text/plain": [
       "<16604x32100 sparse matrix of type '<class 'numpy.int64'>'\n",
       "\twith 138298 stored elements in Compressed Sparse Row format>"
      ]
     },
     "execution_count": 21,
     "metadata": {},
     "output_type": "execute_result"
    }
   ],
   "source": [
    "X_train"
   ]
  },
  {
   "cell_type": "code",
   "execution_count": 22,
   "id": "9902606d",
   "metadata": {},
   "outputs": [],
   "source": [
    "from sklearn.tree import DecisionTreeClassifier"
   ]
  },
  {
   "cell_type": "markdown",
   "id": "db53ac9b",
   "metadata": {},
   "source": [
    "A **Decision Tree Classifier** is a supervised machine learning algorithm used for classification tasks. It works by splitting the data into subsets based on feature values, creating a tree-like structure where each node represents a decision based on a feature, and each leaf represents a class label.\n",
    "\n",
    "### Role:\n",
    "1. **Classification**: It is used to classify data into different categories (classes) based on feature values.\n",
    "2. **Splitting Data**: The tree splits data at each node based on the feature that provides the best separation (often using metrics like **Gini impurity** or **Information Gain**).\n",
    "3. **Interpretability**: The resulting model is easy to interpret, as it visually represents how decisions are made based on input features.\n",
    "4. **Handling Both Numeric and Categorical Data**: It can handle both types of data, making it versatile for various applications.\n",
    "\n",
    "### Example:\n",
    "If you have a dataset with features like age, income, and education level, the decision tree might split the data by \"income > 50k\" at the root, then further split based on \"age < 30\", and so on, until it classifies the data into categories like \"Buy\" or \"Not Buy\".\n",
    "\n",
    "In short, a **Decision Tree Classifier** is used for making predictions by following decision rules derived from the input features."
   ]
  },
  {
   "cell_type": "code",
   "execution_count": 23,
   "id": "22cc4785",
   "metadata": {},
   "outputs": [
    {
     "data": {
      "text/html": [
       "<style>#sk-container-id-1 {color: black;}#sk-container-id-1 pre{padding: 0;}#sk-container-id-1 div.sk-toggleable {background-color: white;}#sk-container-id-1 label.sk-toggleable__label {cursor: pointer;display: block;width: 100%;margin-bottom: 0;padding: 0.3em;box-sizing: border-box;text-align: center;}#sk-container-id-1 label.sk-toggleable__label-arrow:before {content: \"▸\";float: left;margin-right: 0.25em;color: #696969;}#sk-container-id-1 label.sk-toggleable__label-arrow:hover:before {color: black;}#sk-container-id-1 div.sk-estimator:hover label.sk-toggleable__label-arrow:before {color: black;}#sk-container-id-1 div.sk-toggleable__content {max-height: 0;max-width: 0;overflow: hidden;text-align: left;background-color: #f0f8ff;}#sk-container-id-1 div.sk-toggleable__content pre {margin: 0.2em;color: black;border-radius: 0.25em;background-color: #f0f8ff;}#sk-container-id-1 input.sk-toggleable__control:checked~div.sk-toggleable__content {max-height: 200px;max-width: 100%;overflow: auto;}#sk-container-id-1 input.sk-toggleable__control:checked~label.sk-toggleable__label-arrow:before {content: \"▾\";}#sk-container-id-1 div.sk-estimator input.sk-toggleable__control:checked~label.sk-toggleable__label {background-color: #d4ebff;}#sk-container-id-1 div.sk-label input.sk-toggleable__control:checked~label.sk-toggleable__label {background-color: #d4ebff;}#sk-container-id-1 input.sk-hidden--visually {border: 0;clip: rect(1px 1px 1px 1px);clip: rect(1px, 1px, 1px, 1px);height: 1px;margin: -1px;overflow: hidden;padding: 0;position: absolute;width: 1px;}#sk-container-id-1 div.sk-estimator {font-family: monospace;background-color: #f0f8ff;border: 1px dotted black;border-radius: 0.25em;box-sizing: border-box;margin-bottom: 0.5em;}#sk-container-id-1 div.sk-estimator:hover {background-color: #d4ebff;}#sk-container-id-1 div.sk-parallel-item::after {content: \"\";width: 100%;border-bottom: 1px solid gray;flex-grow: 1;}#sk-container-id-1 div.sk-label:hover label.sk-toggleable__label {background-color: #d4ebff;}#sk-container-id-1 div.sk-serial::before {content: \"\";position: absolute;border-left: 1px solid gray;box-sizing: border-box;top: 0;bottom: 0;left: 50%;z-index: 0;}#sk-container-id-1 div.sk-serial {display: flex;flex-direction: column;align-items: center;background-color: white;padding-right: 0.2em;padding-left: 0.2em;position: relative;}#sk-container-id-1 div.sk-item {position: relative;z-index: 1;}#sk-container-id-1 div.sk-parallel {display: flex;align-items: stretch;justify-content: center;background-color: white;position: relative;}#sk-container-id-1 div.sk-item::before, #sk-container-id-1 div.sk-parallel-item::before {content: \"\";position: absolute;border-left: 1px solid gray;box-sizing: border-box;top: 0;bottom: 0;left: 50%;z-index: -1;}#sk-container-id-1 div.sk-parallel-item {display: flex;flex-direction: column;z-index: 1;position: relative;background-color: white;}#sk-container-id-1 div.sk-parallel-item:first-child::after {align-self: flex-end;width: 50%;}#sk-container-id-1 div.sk-parallel-item:last-child::after {align-self: flex-start;width: 50%;}#sk-container-id-1 div.sk-parallel-item:only-child::after {width: 0;}#sk-container-id-1 div.sk-dashed-wrapped {border: 1px dashed gray;margin: 0 0.4em 0.5em 0.4em;box-sizing: border-box;padding-bottom: 0.4em;background-color: white;}#sk-container-id-1 div.sk-label label {font-family: monospace;font-weight: bold;display: inline-block;line-height: 1.2em;}#sk-container-id-1 div.sk-label-container {text-align: center;}#sk-container-id-1 div.sk-container {/* jupyter's `normalize.less` sets `[hidden] { display: none; }` but bootstrap.min.css set `[hidden] { display: none !important; }` so we also need the `!important` here to be able to override the default hidden behavior on the sphinx rendered scikit-learn.org. See: https://github.com/scikit-learn/scikit-learn/issues/21755 */display: inline-block !important;position: relative;}#sk-container-id-1 div.sk-text-repr-fallback {display: none;}</style><div id=\"sk-container-id-1\" class=\"sk-top-container\"><div class=\"sk-text-repr-fallback\"><pre>DecisionTreeClassifier()</pre><b>In a Jupyter environment, please rerun this cell to show the HTML representation or trust the notebook. <br />On GitHub, the HTML representation is unable to render, please try loading this page with nbviewer.org.</b></div><div class=\"sk-container\" hidden><div class=\"sk-item\"><div class=\"sk-estimator sk-toggleable\"><input class=\"sk-toggleable__control sk-hidden--visually\" id=\"sk-estimator-id-1\" type=\"checkbox\" checked><label for=\"sk-estimator-id-1\" class=\"sk-toggleable__label sk-toggleable__label-arrow\">DecisionTreeClassifier</label><div class=\"sk-toggleable__content\"><pre>DecisionTreeClassifier()</pre></div></div></div></div></div>"
      ],
      "text/plain": [
       "DecisionTreeClassifier()"
      ]
     },
     "execution_count": 23,
     "metadata": {},
     "output_type": "execute_result"
    }
   ],
   "source": [
    "dt = DecisionTreeClassifier()\n",
    "dt.fit(X_train, Y_train)"
   ]
  },
  {
   "cell_type": "code",
   "execution_count": 24,
   "id": "c7e67824",
   "metadata": {},
   "outputs": [],
   "source": [
    "Y_pred = dt.predict(X_test)"
   ]
  },
  {
   "cell_type": "code",
   "execution_count": 25,
   "id": "12768c21",
   "metadata": {},
   "outputs": [],
   "source": [
    "##CONFUSION MATRIX AND ACCURACY\n",
    "from sklearn.metrics import confusion_matrix\n",
    "cm = confusion_matrix(Y_test, Y_pred)"
   ]
  },
  {
   "cell_type": "code",
   "execution_count": 26,
   "id": "e597050d",
   "metadata": {},
   "outputs": [
    {
     "data": {
      "text/plain": [
       "array([[ 150,   42,  273],\n",
       "       [  39, 1124,  216],\n",
       "       [ 241,  207, 5887]], dtype=int64)"
      ]
     },
     "execution_count": 26,
     "metadata": {},
     "output_type": "execute_result"
    }
   ],
   "source": [
    "cm"
   ]
  },
  {
   "cell_type": "code",
   "execution_count": 27,
   "id": "4171b805",
   "metadata": {},
   "outputs": [],
   "source": [
    "import matplotlib.pyplot as plt\n",
    "%matplotlib inline"
   ]
  },
  {
   "cell_type": "code",
   "execution_count": 28,
   "id": "27731285",
   "metadata": {},
   "outputs": [
    {
     "data": {
      "text/plain": [
       "<Axes: >"
      ]
     },
     "execution_count": 28,
     "metadata": {},
     "output_type": "execute_result"
    },
    {
     "data": {
      "image/png": "[encoded data removed]",
      "text/plain": [
       "<Figure size 640x480 with 2 Axes>"
      ]
     },
     "metadata": {},
     "output_type": "display_data"
    }
   ],
   "source": [
    "sns.heatmap(cm, annot=True, fmt=\".1f\", cmap=\"rocket_r\")\n",
    "##darker the diagonal elements, accurate the detection is, fmt is for float/decimal value notation"
   ]
  },
  {
   "cell_type": "code",
   "execution_count": 39,
   "id": "6b3cfddb",
   "metadata": {},
   "outputs": [
    {
     "data": {
      "text/plain": [
       "(0.8755349064677833,\n",
       " 0.8729998315281655,\n",
       " 0.8755349064677833,\n",
       " 0.8742300616957308)"
      ]
     },
     "execution_count": 39,
     "metadata": {},
     "output_type": "execute_result"
    }
   ],
   "source": [
    "from sklearn.metrics import accuracy_score, precision_score, recall_score, f1_score\n",
    "acc = accuracy_score(Y_pred, Y_test)\n",
    "# Calculate precision, recall, and f1 with multiclass averaging\n",
    "pre = precision_score(Y_test, Y_pred, average='weighted')  # Use 'micro' or 'macro' as needed\n",
    "rec = recall_score(Y_test, Y_pred, average='weighted')  # Use 'micro' or 'macro' as needed\n",
    "f1 = f1_score(Y_test, Y_pred, average='weighted')  # Use 'micro' or 'macro' as needed\n",
    "\n",
    "# Print the metrics\n",
    "acc, pre, rec, f1"
   ]
  },
  {
   "cell_type": "markdown",
   "id": "5f056e92",
   "metadata": {},
   "source": [
    "### **Why add average paramter for pre, rec, f1?**\n",
    "Since we have a multiclass problem (i.e., more than two classes: Hate Speech, Offensive Language, and Neither), we need to specify how the metrics should be averaged across the classes.\n",
    "To fix this, you can add the average parameter to the metrics functions. Here are the possible values for the average parameter:\n",
    "\n",
    "### **What Does Averaged Across Classes Mean?**\n",
    "When evaluating a multiclass classification problem, the model generates metrics for each class individually. For example:\n",
    "- **Precision, Recall, and F1-score** are calculated separately for each class.\n",
    "- To provide a single summary value, these individual metrics are combined (averaged) using different strategies (`micro`, `macro`, `weighted`, or `None`).\n",
    "\n",
    "### **Difference Between Parameter Values**\n",
    "\n",
    "| **Parameter Value** | **Meaning**                                                                                                          | **How It's Calculated**                                                                                                                                                                                                                      | **When to Use**                                                                                 |\n",
    "|----------------------|----------------------------------------------------------------------------------------------------------------------|---------------------------------------------------------------------------------------------------------------------------------------------------------------------------------------------------------------------------------------------|-------------------------------------------------------------------------------------------------|\n",
    "| **`'micro'`**        | Global averaging: Considers all true positives, false positives, and false negatives across all classes collectively. | Calculates metrics globally by aggregating counts for all classes. <br>For example, precision = (total TP) / (total TP + total FP).                                                                                                         | Use when class imbalance exists and you're interested in overall performance.                  |\n",
    "| **`'macro'`**        | Class-level averaging: Treats all classes equally, regardless of their size.                                         | Calculates metrics for each class individually and then averages them. <br>Precision = (precision for class 1 + precision for class 2 + ...)/number of classes.                                                                            | Use when you want to treat all classes equally, even if they are imbalanced.                   |\n",
    "| **`'weighted'`**     | Weighted averaging: Accounts for class imbalance by giving more weight to larger classes.                            | Similar to `macro`, but each class's metric is weighted by its support (number of true instances). <br>Precision = (class1_precision × class1_support + class2_precision × class2_support + ...)/total support.                              | Use when class imbalance exists and you want metrics to reflect the contribution of each class. |\n",
    "| **`None`**           | No averaging: Returns metrics for each class separately.                                                            | Provides precision, recall, or F1 for every class instead of a single value.                                                                                                                                                                | Use when you need to analyze performance for each class individually.                          |\n",
    "\n",
    "### **Example**\n",
    "Suppose you have 3 classes (A, B, and C) with the following metrics:\n",
    "\n",
    "| **Class** | **Precision** | **Recall** | **Support (instances)** |\n",
    "|-----------|---------------|------------|--------------------------|\n",
    "| A         | 0.9           | 0.8        | 50                       |\n",
    "| B         | 0.6           | 0.7        | 30                       |\n",
    "| C         | 0.8           | 0.9        | 20                       |\n",
    "\n",
    "**For Precision:**\n",
    "- **`micro`**: `(TP_A + TP_B + TP_C) / (TP_A + TP_B + TP_C + FP_A + FP_B + FP_C)`. Based on all classes together.\n",
    "- **`macro`**: `(0.9 + 0.6 + 0.8) / 3 = 0.767`. Equal weight to each class.\n",
    "- **`weighted`**: `(0.9*50 + 0.6*30 + 0.8*20) / (50 + 30 + 20) = 0.78`. Weighted by the number of samples in each class.\n",
    "- **`None`**: Returns `[0.9, 0.6, 0.8]`.\n",
    "\n",
    "### **Summary**\n",
    "- **Micro**: Focuses on overall performance across all samples.\n",
    "- **Macro**: Treats all classes equally, ignoring class sizes.\n",
    "- **Weighted**: Balances metrics by the size of each class.\n",
    "- **None**: Gives class-specific results."
   ]
  },
  {
   "cell_type": "code",
   "execution_count": null,
   "id": "d4cf2d9a",
   "metadata": {},
   "outputs": [],
   "source": []
  }
 ],
 "metadata": {
  "kernelspec": {
   "display_name": "Python 3 (ipykernel)",
   "language": "python",
   "name": "python3"
  },
  "language_info": {
   "codemirror_mode": {
    "name": "ipython",
    "version": 3
   },
   "file_extension": ".py",
   "mimetype": "text/x-python",
   "name": "python",
   "nbconvert_exporter": "python",
   "pygments_lexer": "ipython3",
   "version": "3.11.5"
  },
  "varInspector": {
   "cols": {
    "lenName": 16,
    "lenType": 16,
    "lenVar": 40
   },
   "kernels_config": {
    "python": {
     "delete_cmd_postfix": "",
     "delete_cmd_prefix": "del ",
     "library": "var_list.py",
     "varRefreshCmd": "print(var_dic_list())"
    },
    "r": {
     "delete_cmd_postfix": ") ",
     "delete_cmd_prefix": "rm(",
     "library": "var_list.r",
     "varRefreshCmd": "cat(var_dic_list()) "
    }
   },
   "types_to_exclude": [
    "module",
    "function",
    "builtin_function_or_method",
    "instance",
    "_Feature"
   ],
   "window_display": false
  }
 },
 "nbformat": 4,
 "nbformat_minor": 5
}
